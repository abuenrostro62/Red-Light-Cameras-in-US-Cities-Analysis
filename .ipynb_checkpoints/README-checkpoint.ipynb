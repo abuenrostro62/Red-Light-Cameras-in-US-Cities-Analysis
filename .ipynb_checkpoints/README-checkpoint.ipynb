{
 "cells": [
  {
   "cell_type": "code",
   "execution_count": null,
   "metadata": {},
   "outputs": [],
   "source": [
    "# Project Title\n",
    "# The effects of weather on Red Light Violations (including speed violation)\n",
    "\n",
    "# Team Members\n",
    "# Arthur Chen\n",
    "# Araceli Buenrostro\n",
    "# Jun Yang\n",
    "\n",
    "# Project Description/Outline\n",
    "We are going tp analyze Chicago weather and red light/speed violations to investigate any potential correlation. Then we are going to compare to other major cities in the U.S. \n",
    "\n",
    "# Research Questions to Answer\n",
    "1. Do warmer temp increase the number of red light/speed violations\n",
    "2. Do specific areas (could be communities) have a higher frequencies of red light/speed violations\n",
    "3. In which season are red light/speed violations more common across the U.S. (compare between major cities)\n",
    "\n",
    "# Datasets to Be Used\n",
    "https://www.kaggle.com/chicago/chicago-red-light-and-speed-camera-data\n"
   ]
  },
  {
   "cell_type": "code",
   "execution_count": null,
   "metadata": {},
   "outputs": [],
   "source": []
  }
 ],
 "metadata": {
  "kernelspec": {
   "display_name": "Python 3",
   "language": "python",
   "name": "python3"
  },
  "language_info": {
   "name": ""
  }
 },
 "nbformat": 4,
 "nbformat_minor": 4
}
